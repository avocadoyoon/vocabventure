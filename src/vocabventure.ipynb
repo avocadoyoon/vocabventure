{
  "nbformat": 4,
  "nbformat_minor": 0,
  "metadata": {
    "colab": {
      "provenance": []
    },
    "kernelspec": {
      "name": "python3",
      "display_name": "Python 3"
    },
    "language_info": {
      "name": "python"
    }
  },
  "cells": [
    {
      "cell_type": "code",
      "source": [
        "import random\n",
        "\n",
        "word_bank = ['rizz', 'slay', 'skibidi', 'tiktok', 'meow', 'peach', 'orbit', 'obsidian', 'nova']\n",
        "attempts = 8\n",
        "\n",
        "def read_input():\n",
        "    guess = input('Guess a letter: ').lower()\n",
        "\n",
        "    if len(guess) != 1 or not guess.isalpha():\n",
        "      print('Invalid input. Please enter a single letter.')\n",
        "    else:\n",
        "      return guess\n",
        "\n",
        "# Selecting a random word\n",
        "word = random.choice(word_bank)\n",
        "guessword = ['_'] * len(word)\n",
        "\n",
        "while attempts > 0:\n",
        "    print('\\nCurrent word: ' + ' '.join(guessword))\n",
        "    guess = read_input()\n",
        "\n",
        "    if guess in word:\n",
        "        for i in range(len(word)):\n",
        "            if word[i] == guess:\n",
        "                guessword[i] = guess\n",
        "        print('Great guess!')\n",
        "    else:\n",
        "        attempts -= 1\n",
        "        print('Sorry, wrong guess! Attempts left: ' + str(attempts))\n",
        "\n",
        "    if '_' not in guessword:\n",
        "      print('\\nCongratulations, you guessed the word: ' + word)\n",
        "      break\n",
        "\n",
        "    if attempts == 0 and '_' in guessword:\n",
        "        print('\\nSorry, you have run out of attempts! The word was: ' + word)\n"
      ],
      "metadata": {
        "colab": {
          "base_uri": "https://localhost:8080/"
        },
        "id": "Ves-Ll3yBhdf",
        "outputId": "a1acf271-f0ca-431a-b13a-d7bb579b081d"
      },
      "execution_count": 13,
      "outputs": [
        {
          "output_type": "stream",
          "name": "stdout",
          "text": [
            "\n",
            "Current word: _ _ _ _ _ _\n",
            "Guess a letter: s\n",
            "Sorry, wrong guess! Attempts left: 7\n",
            "\n",
            "Current word: _ _ _ _ _ _\n",
            "Guess a letter: o\n",
            "Great guess!\n",
            "\n",
            "Current word: _ _ _ _ o _\n",
            "Guess a letter: b\n",
            "Sorry, wrong guess! Attempts left: 6\n",
            "\n",
            "Current word: _ _ _ _ o _\n",
            "Guess a letter: t\n",
            "Great guess!\n",
            "\n",
            "Current word: t _ _ t o _\n",
            "Guess a letter: i\n",
            "Great guess!\n",
            "\n",
            "Current word: t i _ t o _\n",
            "Guess a letter: k\n",
            "Great guess!\n",
            "\n",
            "Congratulations, you guessed the word: tiktok\n"
          ]
        }
      ]
    }
  ]
}